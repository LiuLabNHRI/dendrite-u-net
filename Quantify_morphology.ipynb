{
 "cells": [
  {
   "cell_type": "code",
   "execution_count": 1,
   "metadata": {},
   "outputs": [],
   "source": [
    "%load_ext autoreload\n",
    "%autoreload 2\n",
    "\n",
    "import sys, os, re\n",
    "sys.path.append(os.path.abspath('./src'))\n",
    "\n",
    "import pandas as pd\n",
    "import matplotlib.pyplot as plt\n",
    "\n",
    "import analyze_predictions"
   ]
  },
  {
   "cell_type": "markdown",
   "metadata": {},
   "source": [
    "# Set parameters"
   ]
  },
  {
   "cell_type": "code",
   "execution_count": 2,
   "metadata": {},
   "outputs": [],
   "source": [
    "prob_threshold = 0.5\n",
    "dil_type = 1 # 1: 4-connectivity, 2: 8-connectivity\n",
    "min_area = 10 # minimal object area\n",
    "\n",
    "# Fig. S1\n",
    "# dataset = 'fig_s1_images' # e.g. 'name of your data folder'\n",
    "# model_names = ['larva_062519'] # e.g. ['larva_062519 or adult_062019']\n",
    "# tags = [''] # Addition tag for model to distinguish columns when comparing different models\n",
    "# output_csv = './results/fig_s1_results.csv' # csv file name to save (e.g. 'results.csv'), set to None if not saving\n",
    "# pred_only = True # True: compute only prediction-related results. \n",
    "#                  # False: also compute answer-related results (e.g. dice loss)\n",
    "# post_processed_folder = 'post_proc_0.5_1_10' # or None if not saving, 'post_proc_0.5_1_0'\n",
    "\n",
    "# Adult\n",
    "dataset = 'training_adult' # e.g. 'name of your data folder'\n",
    "model_names = ['adult_062019'] # e.g. ['larva_062519 or adult_062019']\n",
    "tags = [''] # Addition tag for model to distinguish columns when comparing different models\n",
    "output_csv = './results/adult_train_results.csv' # csv file name to save (e.g. 'results.csv'), set to None if not saving\n",
    "pred_only = False # True: compute only prediction-related results. \n",
    "                 # False: also compute answer-related results (e.g. dice loss)\n",
    "post_processed_folder = 'post_proc_0.5_1_10' # or None if not saving, 'post_proc_0.5_1_0'\n",
    "\n",
    "\n",
    "# set parameters\n",
    "analyze_predictions.PARAMS['PROB_THRESHOLD'] = prob_threshold\n",
    "analyze_predictions.PARAMS['DIL_TYPE'] = dil_type\n",
    "analyze_predictions.PARAMS['MIN_AREA'] = min_area\n",
    "analyze_predictions.PARAMS['PRED_ONLY'] = pred_only\n",
    "analyze_predictions.PARAMS['POST_PROCESSED_FOLDER'] = post_processed_folder"
   ]
  },
  {
   "cell_type": "markdown",
   "metadata": {},
   "source": [
    "# Compute total length (area) and tip numbers (n_endpoints)"
   ]
  },
  {
   "cell_type": "code",
   "execution_count": 3,
   "metadata": {
    "scrolled": true
   },
   "outputs": [
    {
     "name": "stdout",
     "output_type": "stream",
     "text": [
      "Retrieving results of adult_062019...\n",
      "  Done 1/82\r"
     ]
    },
    {
     "name": "stderr",
     "output_type": "stream",
     "text": [
      "/home/osiris/workspace/jan_lab/dendrite_U-Net/src/analyze_predictions.py:234: UserWarning: ./results/adult_062019/training_adult/post_proc_0.5_1_10/Adults_10_m.png is a low contrast image\n",
      "  skimage.io.imsave(img_path, y_pred.astype(np.uint8) * 255)\n"
     ]
    },
    {
     "name": "stdout",
     "output_type": "stream",
     "text": [
      "  Done 2/82\r"
     ]
    },
    {
     "name": "stderr",
     "output_type": "stream",
     "text": [
      "/home/osiris/workspace/jan_lab/dendrite_U-Net/src/analyze_predictions.py:234: UserWarning: ./results/adult_062019/training_adult/post_proc_0.5_1_10/Adults_11_c.png is a low contrast image\n",
      "  skimage.io.imsave(img_path, y_pred.astype(np.uint8) * 255)\n"
     ]
    },
    {
     "name": "stdout",
     "output_type": "stream",
     "text": [
      "  Done 4/82\r"
     ]
    },
    {
     "name": "stderr",
     "output_type": "stream",
     "text": [
      "/home/osiris/workspace/jan_lab/dendrite_U-Net/src/analyze_predictions.py:234: UserWarning: ./results/adult_062019/training_adult/post_proc_0.5_1_10/Adults_12_c.png is a low contrast image\n",
      "  skimage.io.imsave(img_path, y_pred.astype(np.uint8) * 255)\n"
     ]
    },
    {
     "name": "stdout",
     "output_type": "stream",
     "text": [
      "  Done 5/82\r"
     ]
    },
    {
     "name": "stderr",
     "output_type": "stream",
     "text": [
      "/home/osiris/workspace/jan_lab/dendrite_U-Net/src/analyze_predictions.py:234: UserWarning: ./results/adult_062019/training_adult/post_proc_0.5_1_10/Adults_12_m.png is a low contrast image\n",
      "  skimage.io.imsave(img_path, y_pred.astype(np.uint8) * 255)\n"
     ]
    },
    {
     "name": "stdout",
     "output_type": "stream",
     "text": [
      "  Done 6/82\r"
     ]
    },
    {
     "name": "stderr",
     "output_type": "stream",
     "text": [
      "/home/osiris/workspace/jan_lab/dendrite_U-Net/src/analyze_predictions.py:234: UserWarning: ./results/adult_062019/training_adult/post_proc_0.5_1_10/Adults_13_c.png is a low contrast image\n",
      "  skimage.io.imsave(img_path, y_pred.astype(np.uint8) * 255)\n"
     ]
    },
    {
     "name": "stdout",
     "output_type": "stream",
     "text": [
      "  Done 7/82\r"
     ]
    },
    {
     "name": "stderr",
     "output_type": "stream",
     "text": [
      "/home/osiris/workspace/jan_lab/dendrite_U-Net/src/analyze_predictions.py:234: UserWarning: ./results/adult_062019/training_adult/post_proc_0.5_1_10/Adults_13_m.png is a low contrast image\n",
      "  skimage.io.imsave(img_path, y_pred.astype(np.uint8) * 255)\n"
     ]
    },
    {
     "name": "stdout",
     "output_type": "stream",
     "text": [
      "  Done 8/82\r"
     ]
    },
    {
     "name": "stderr",
     "output_type": "stream",
     "text": [
      "/home/osiris/workspace/jan_lab/dendrite_U-Net/src/analyze_predictions.py:234: UserWarning: ./results/adult_062019/training_adult/post_proc_0.5_1_10/Adults_14_c.png is a low contrast image\n",
      "  skimage.io.imsave(img_path, y_pred.astype(np.uint8) * 255)\n"
     ]
    },
    {
     "name": "stdout",
     "output_type": "stream",
     "text": [
      "  Done 9/82\r"
     ]
    },
    {
     "name": "stderr",
     "output_type": "stream",
     "text": [
      "/home/osiris/workspace/jan_lab/dendrite_U-Net/src/analyze_predictions.py:234: UserWarning: ./results/adult_062019/training_adult/post_proc_0.5_1_10/Adults_14_m.png is a low contrast image\n",
      "  skimage.io.imsave(img_path, y_pred.astype(np.uint8) * 255)\n"
     ]
    },
    {
     "name": "stdout",
     "output_type": "stream",
     "text": [
      "  Done 11/82\r"
     ]
    },
    {
     "name": "stderr",
     "output_type": "stream",
     "text": [
      "/home/osiris/workspace/jan_lab/dendrite_U-Net/src/analyze_predictions.py:234: UserWarning: ./results/adult_062019/training_adult/post_proc_0.5_1_10/Adults_15_m.png is a low contrast image\n",
      "  skimage.io.imsave(img_path, y_pred.astype(np.uint8) * 255)\n"
     ]
    },
    {
     "name": "stdout",
     "output_type": "stream",
     "text": [
      "  Done 13/82\r"
     ]
    },
    {
     "name": "stderr",
     "output_type": "stream",
     "text": [
      "/home/osiris/workspace/jan_lab/dendrite_U-Net/src/analyze_predictions.py:234: UserWarning: ./results/adult_062019/training_adult/post_proc_0.5_1_10/Adults_16_m.png is a low contrast image\n",
      "  skimage.io.imsave(img_path, y_pred.astype(np.uint8) * 255)\n"
     ]
    },
    {
     "name": "stdout",
     "output_type": "stream",
     "text": [
      "  Done 15/82\r"
     ]
    },
    {
     "name": "stderr",
     "output_type": "stream",
     "text": [
      "/home/osiris/workspace/jan_lab/dendrite_U-Net/src/analyze_predictions.py:234: UserWarning: ./results/adult_062019/training_adult/post_proc_0.5_1_10/Adults_17_m.png is a low contrast image\n",
      "  skimage.io.imsave(img_path, y_pred.astype(np.uint8) * 255)\n"
     ]
    },
    {
     "name": "stdout",
     "output_type": "stream",
     "text": [
      "  Done 17/82\r"
     ]
    },
    {
     "name": "stderr",
     "output_type": "stream",
     "text": [
      "/home/osiris/workspace/jan_lab/dendrite_U-Net/src/analyze_predictions.py:234: UserWarning: ./results/adult_062019/training_adult/post_proc_0.5_1_10/Adults_18_m.png is a low contrast image\n",
      "  skimage.io.imsave(img_path, y_pred.astype(np.uint8) * 255)\n"
     ]
    },
    {
     "name": "stdout",
     "output_type": "stream",
     "text": [
      "  Done 19/82\r"
     ]
    },
    {
     "name": "stderr",
     "output_type": "stream",
     "text": [
      "/home/osiris/workspace/jan_lab/dendrite_U-Net/src/analyze_predictions.py:234: UserWarning: ./results/adult_062019/training_adult/post_proc_0.5_1_10/Adults_1_m.png is a low contrast image\n",
      "  skimage.io.imsave(img_path, y_pred.astype(np.uint8) * 255)\n"
     ]
    },
    {
     "name": "stdout",
     "output_type": "stream",
     "text": [
      "  Done 21/82\r"
     ]
    },
    {
     "name": "stderr",
     "output_type": "stream",
     "text": [
      "/home/osiris/workspace/jan_lab/dendrite_U-Net/src/analyze_predictions.py:234: UserWarning: ./results/adult_062019/training_adult/post_proc_0.5_1_10/Adults_20_m.png is a low contrast image\n",
      "  skimage.io.imsave(img_path, y_pred.astype(np.uint8) * 255)\n"
     ]
    },
    {
     "name": "stdout",
     "output_type": "stream",
     "text": [
      "  Done 22/82\r"
     ]
    },
    {
     "name": "stderr",
     "output_type": "stream",
     "text": [
      "/home/osiris/workspace/jan_lab/dendrite_U-Net/src/analyze_predictions.py:234: UserWarning: ./results/adult_062019/training_adult/post_proc_0.5_1_10/Adults_21_m.png is a low contrast image\n",
      "  skimage.io.imsave(img_path, y_pred.astype(np.uint8) * 255)\n"
     ]
    },
    {
     "name": "stdout",
     "output_type": "stream",
     "text": [
      "  Done 23/82\r"
     ]
    },
    {
     "name": "stderr",
     "output_type": "stream",
     "text": [
      "/home/osiris/workspace/jan_lab/dendrite_U-Net/src/analyze_predictions.py:234: UserWarning: ./results/adult_062019/training_adult/post_proc_0.5_1_10/Adults_23_m.png is a low contrast image\n",
      "  skimage.io.imsave(img_path, y_pred.astype(np.uint8) * 255)\n"
     ]
    },
    {
     "name": "stdout",
     "output_type": "stream",
     "text": [
      "  Done 25/82\r"
     ]
    },
    {
     "name": "stderr",
     "output_type": "stream",
     "text": [
      "/home/osiris/workspace/jan_lab/dendrite_U-Net/src/analyze_predictions.py:234: UserWarning: ./results/adult_062019/training_adult/post_proc_0.5_1_10/Adults_24_m.png is a low contrast image\n",
      "  skimage.io.imsave(img_path, y_pred.astype(np.uint8) * 255)\n"
     ]
    },
    {
     "name": "stdout",
     "output_type": "stream",
     "text": [
      "  Done 27/82\r"
     ]
    },
    {
     "name": "stderr",
     "output_type": "stream",
     "text": [
      "/home/osiris/workspace/jan_lab/dendrite_U-Net/src/analyze_predictions.py:234: UserWarning: ./results/adult_062019/training_adult/post_proc_0.5_1_10/Adults_25_m.png is a low contrast image\n",
      "  skimage.io.imsave(img_path, y_pred.astype(np.uint8) * 255)\n"
     ]
    },
    {
     "name": "stdout",
     "output_type": "stream",
     "text": [
      "  Done 28/82\r"
     ]
    },
    {
     "name": "stderr",
     "output_type": "stream",
     "text": [
      "/home/osiris/workspace/jan_lab/dendrite_U-Net/src/analyze_predictions.py:234: UserWarning: ./results/adult_062019/training_adult/post_proc_0.5_1_10/Adults_26_m.png is a low contrast image\n",
      "  skimage.io.imsave(img_path, y_pred.astype(np.uint8) * 255)\n"
     ]
    },
    {
     "name": "stdout",
     "output_type": "stream",
     "text": [
      "  Done 29/82\r"
     ]
    },
    {
     "name": "stderr",
     "output_type": "stream",
     "text": [
      "/home/osiris/workspace/jan_lab/dendrite_U-Net/src/analyze_predictions.py:234: UserWarning: ./results/adult_062019/training_adult/post_proc_0.5_1_10/Adults_27_m.png is a low contrast image\n",
      "  skimage.io.imsave(img_path, y_pred.astype(np.uint8) * 255)\n"
     ]
    },
    {
     "name": "stdout",
     "output_type": "stream",
     "text": [
      "  Done 30/82\r"
     ]
    },
    {
     "name": "stderr",
     "output_type": "stream",
     "text": [
      "/home/osiris/workspace/jan_lab/dendrite_U-Net/src/analyze_predictions.py:234: UserWarning: ./results/adult_062019/training_adult/post_proc_0.5_1_10/Adults_28_m.png is a low contrast image\n",
      "  skimage.io.imsave(img_path, y_pred.astype(np.uint8) * 255)\n"
     ]
    },
    {
     "name": "stdout",
     "output_type": "stream",
     "text": [
      "  Done 31/82\r"
     ]
    },
    {
     "name": "stderr",
     "output_type": "stream",
     "text": [
      "/home/osiris/workspace/jan_lab/dendrite_U-Net/src/analyze_predictions.py:234: UserWarning: ./results/adult_062019/training_adult/post_proc_0.5_1_10/Adults_29_m.png is a low contrast image\n",
      "  skimage.io.imsave(img_path, y_pred.astype(np.uint8) * 255)\n"
     ]
    },
    {
     "name": "stdout",
     "output_type": "stream",
     "text": [
      "  Done 33/82\r"
     ]
    },
    {
     "name": "stderr",
     "output_type": "stream",
     "text": [
      "/home/osiris/workspace/jan_lab/dendrite_U-Net/src/analyze_predictions.py:234: UserWarning: ./results/adult_062019/training_adult/post_proc_0.5_1_10/Adults_2_m.png is a low contrast image\n",
      "  skimage.io.imsave(img_path, y_pred.astype(np.uint8) * 255)\n"
     ]
    },
    {
     "name": "stdout",
     "output_type": "stream",
     "text": [
      "  Done 34/82\r"
     ]
    },
    {
     "name": "stderr",
     "output_type": "stream",
     "text": [
      "/home/osiris/workspace/jan_lab/dendrite_U-Net/src/analyze_predictions.py:234: UserWarning: ./results/adult_062019/training_adult/post_proc_0.5_1_10/Adults_30_c.png is a low contrast image\n",
      "  skimage.io.imsave(img_path, y_pred.astype(np.uint8) * 255)\n"
     ]
    },
    {
     "name": "stdout",
     "output_type": "stream",
     "text": [
      "  Done 36/82\r"
     ]
    },
    {
     "name": "stderr",
     "output_type": "stream",
     "text": [
      "/home/osiris/workspace/jan_lab/dendrite_U-Net/src/analyze_predictions.py:234: UserWarning: ./results/adult_062019/training_adult/post_proc_0.5_1_10/Adults_31_m.png is a low contrast image\n",
      "  skimage.io.imsave(img_path, y_pred.astype(np.uint8) * 255)\n"
     ]
    },
    {
     "name": "stdout",
     "output_type": "stream",
     "text": [
      "  Done 38/82\r"
     ]
    },
    {
     "name": "stderr",
     "output_type": "stream",
     "text": [
      "/home/osiris/workspace/jan_lab/dendrite_U-Net/src/analyze_predictions.py:234: UserWarning: ./results/adult_062019/training_adult/post_proc_0.5_1_10/Adults_32_m.png is a low contrast image\n",
      "  skimage.io.imsave(img_path, y_pred.astype(np.uint8) * 255)\n"
     ]
    },
    {
     "name": "stdout",
     "output_type": "stream",
     "text": [
      "  Done 40/82\r"
     ]
    },
    {
     "name": "stderr",
     "output_type": "stream",
     "text": [
      "/home/osiris/workspace/jan_lab/dendrite_U-Net/src/analyze_predictions.py:234: UserWarning: ./results/adult_062019/training_adult/post_proc_0.5_1_10/Adults_33_m.png is a low contrast image\n",
      "  skimage.io.imsave(img_path, y_pred.astype(np.uint8) * 255)\n"
     ]
    },
    {
     "name": "stdout",
     "output_type": "stream",
     "text": [
      "  Done 42/82\r"
     ]
    },
    {
     "name": "stderr",
     "output_type": "stream",
     "text": [
      "/home/osiris/workspace/jan_lab/dendrite_U-Net/src/analyze_predictions.py:234: UserWarning: ./results/adult_062019/training_adult/post_proc_0.5_1_10/Adults_34_m.png is a low contrast image\n",
      "  skimage.io.imsave(img_path, y_pred.astype(np.uint8) * 255)\n"
     ]
    },
    {
     "name": "stdout",
     "output_type": "stream",
     "text": [
      "  Done 44/82\r"
     ]
    },
    {
     "name": "stderr",
     "output_type": "stream",
     "text": [
      "/home/osiris/workspace/jan_lab/dendrite_U-Net/src/analyze_predictions.py:234: UserWarning: ./results/adult_062019/training_adult/post_proc_0.5_1_10/Adults_36_c.png is a low contrast image\n",
      "  skimage.io.imsave(img_path, y_pred.astype(np.uint8) * 255)\n"
     ]
    },
    {
     "name": "stdout",
     "output_type": "stream",
     "text": [
      "  Done 45/82\r"
     ]
    },
    {
     "name": "stderr",
     "output_type": "stream",
     "text": [
      "/home/osiris/workspace/jan_lab/dendrite_U-Net/src/analyze_predictions.py:234: UserWarning: ./results/adult_062019/training_adult/post_proc_0.5_1_10/Adults_36_m.png is a low contrast image\n",
      "  skimage.io.imsave(img_path, y_pred.astype(np.uint8) * 255)\n"
     ]
    },
    {
     "name": "stdout",
     "output_type": "stream",
     "text": [
      "  Done 48/82\r"
     ]
    },
    {
     "name": "stderr",
     "output_type": "stream",
     "text": [
      "/home/osiris/workspace/jan_lab/dendrite_U-Net/src/analyze_predictions.py:234: UserWarning: ./results/adult_062019/training_adult/post_proc_0.5_1_10/Adults_39_c.png is a low contrast image\n",
      "  skimage.io.imsave(img_path, y_pred.astype(np.uint8) * 255)\n"
     ]
    },
    {
     "name": "stdout",
     "output_type": "stream",
     "text": [
      "  Done 49/82\r"
     ]
    },
    {
     "name": "stderr",
     "output_type": "stream",
     "text": [
      "/home/osiris/workspace/jan_lab/dendrite_U-Net/src/analyze_predictions.py:234: UserWarning: ./results/adult_062019/training_adult/post_proc_0.5_1_10/Adults_3_c.png is a low contrast image\n",
      "  skimage.io.imsave(img_path, y_pred.astype(np.uint8) * 255)\n"
     ]
    },
    {
     "name": "stdout",
     "output_type": "stream",
     "text": [
      "  Done 51/82\r"
     ]
    },
    {
     "name": "stderr",
     "output_type": "stream",
     "text": [
      "/home/osiris/workspace/jan_lab/dendrite_U-Net/src/analyze_predictions.py:234: UserWarning: ./results/adult_062019/training_adult/post_proc_0.5_1_10/Adults_42_c.png is a low contrast image\n",
      "  skimage.io.imsave(img_path, y_pred.astype(np.uint8) * 255)\n"
     ]
    },
    {
     "name": "stdout",
     "output_type": "stream",
     "text": [
      "  Done 52/82\r"
     ]
    },
    {
     "name": "stderr",
     "output_type": "stream",
     "text": [
      "/home/osiris/workspace/jan_lab/dendrite_U-Net/src/analyze_predictions.py:234: UserWarning: ./results/adult_062019/training_adult/post_proc_0.5_1_10/Adults_43_c.png is a low contrast image\n",
      "  skimage.io.imsave(img_path, y_pred.astype(np.uint8) * 255)\n"
     ]
    },
    {
     "name": "stdout",
     "output_type": "stream",
     "text": [
      "  Done 53/82\r"
     ]
    },
    {
     "name": "stderr",
     "output_type": "stream",
     "text": [
      "/home/osiris/workspace/jan_lab/dendrite_U-Net/src/analyze_predictions.py:234: UserWarning: ./results/adult_062019/training_adult/post_proc_0.5_1_10/Adults_44_c.png is a low contrast image\n",
      "  skimage.io.imsave(img_path, y_pred.astype(np.uint8) * 255)\n"
     ]
    },
    {
     "name": "stdout",
     "output_type": "stream",
     "text": [
      "  Done 54/82\r"
     ]
    },
    {
     "name": "stderr",
     "output_type": "stream",
     "text": [
      "/home/osiris/workspace/jan_lab/dendrite_U-Net/src/analyze_predictions.py:234: UserWarning: ./results/adult_062019/training_adult/post_proc_0.5_1_10/Adults_44_m.png is a low contrast image\n",
      "  skimage.io.imsave(img_path, y_pred.astype(np.uint8) * 255)\n"
     ]
    },
    {
     "name": "stdout",
     "output_type": "stream",
     "text": [
      "  Done 55/82\r"
     ]
    },
    {
     "name": "stderr",
     "output_type": "stream",
     "text": [
      "/home/osiris/workspace/jan_lab/dendrite_U-Net/src/analyze_predictions.py:234: UserWarning: ./results/adult_062019/training_adult/post_proc_0.5_1_10/Adults_45_c.png is a low contrast image\n",
      "  skimage.io.imsave(img_path, y_pred.astype(np.uint8) * 255)\n"
     ]
    },
    {
     "name": "stdout",
     "output_type": "stream",
     "text": [
      "  Done 56/82\r"
     ]
    },
    {
     "name": "stderr",
     "output_type": "stream",
     "text": [
      "/home/osiris/workspace/jan_lab/dendrite_U-Net/src/analyze_predictions.py:234: UserWarning: ./results/adult_062019/training_adult/post_proc_0.5_1_10/Adults_46_c.png is a low contrast image\n",
      "  skimage.io.imsave(img_path, y_pred.astype(np.uint8) * 255)\n"
     ]
    },
    {
     "name": "stdout",
     "output_type": "stream",
     "text": [
      "  Done 57/82\r"
     ]
    },
    {
     "name": "stderr",
     "output_type": "stream",
     "text": [
      "/home/osiris/workspace/jan_lab/dendrite_U-Net/src/analyze_predictions.py:234: UserWarning: ./results/adult_062019/training_adult/post_proc_0.5_1_10/Adults_47_c.png is a low contrast image\n",
      "  skimage.io.imsave(img_path, y_pred.astype(np.uint8) * 255)\n"
     ]
    },
    {
     "name": "stdout",
     "output_type": "stream",
     "text": [
      "  Done 58/82\r"
     ]
    },
    {
     "name": "stderr",
     "output_type": "stream",
     "text": [
      "/home/osiris/workspace/jan_lab/dendrite_U-Net/src/analyze_predictions.py:234: UserWarning: ./results/adult_062019/training_adult/post_proc_0.5_1_10/Adults_47_m.png is a low contrast image\n",
      "  skimage.io.imsave(img_path, y_pred.astype(np.uint8) * 255)\n"
     ]
    },
    {
     "name": "stdout",
     "output_type": "stream",
     "text": [
      "  Done 59/82\r"
     ]
    },
    {
     "name": "stderr",
     "output_type": "stream",
     "text": [
      "/home/osiris/workspace/jan_lab/dendrite_U-Net/src/analyze_predictions.py:234: UserWarning: ./results/adult_062019/training_adult/post_proc_0.5_1_10/Adults_48_c.png is a low contrast image\n",
      "  skimage.io.imsave(img_path, y_pred.astype(np.uint8) * 255)\n"
     ]
    },
    {
     "name": "stdout",
     "output_type": "stream",
     "text": [
      "  Done 60/82\r"
     ]
    },
    {
     "name": "stderr",
     "output_type": "stream",
     "text": [
      "/home/osiris/workspace/jan_lab/dendrite_U-Net/src/analyze_predictions.py:234: UserWarning: ./results/adult_062019/training_adult/post_proc_0.5_1_10/Adults_48_m.png is a low contrast image\n",
      "  skimage.io.imsave(img_path, y_pred.astype(np.uint8) * 255)\n"
     ]
    },
    {
     "name": "stdout",
     "output_type": "stream",
     "text": [
      "  Done 61/82\r"
     ]
    },
    {
     "name": "stderr",
     "output_type": "stream",
     "text": [
      "/home/osiris/workspace/jan_lab/dendrite_U-Net/src/analyze_predictions.py:234: UserWarning: ./results/adult_062019/training_adult/post_proc_0.5_1_10/Adults_49_c.png is a low contrast image\n",
      "  skimage.io.imsave(img_path, y_pred.astype(np.uint8) * 255)\n"
     ]
    },
    {
     "name": "stdout",
     "output_type": "stream",
     "text": [
      "  Done 62/82\r"
     ]
    },
    {
     "name": "stderr",
     "output_type": "stream",
     "text": [
      "/home/osiris/workspace/jan_lab/dendrite_U-Net/src/analyze_predictions.py:234: UserWarning: ./results/adult_062019/training_adult/post_proc_0.5_1_10/Adults_49_m.png is a low contrast image\n",
      "  skimage.io.imsave(img_path, y_pred.astype(np.uint8) * 255)\n"
     ]
    },
    {
     "name": "stdout",
     "output_type": "stream",
     "text": [
      "  Done 64/82\r"
     ]
    },
    {
     "name": "stderr",
     "output_type": "stream",
     "text": [
      "/home/osiris/workspace/jan_lab/dendrite_U-Net/src/analyze_predictions.py:234: UserWarning: ./results/adult_062019/training_adult/post_proc_0.5_1_10/Adults_4_m.png is a low contrast image\n",
      "  skimage.io.imsave(img_path, y_pred.astype(np.uint8) * 255)\n"
     ]
    },
    {
     "name": "stdout",
     "output_type": "stream",
     "text": [
      "  Done 65/82\r"
     ]
    },
    {
     "name": "stderr",
     "output_type": "stream",
     "text": [
      "/home/osiris/workspace/jan_lab/dendrite_U-Net/src/analyze_predictions.py:234: UserWarning: ./results/adult_062019/training_adult/post_proc_0.5_1_10/Adults_50_c.png is a low contrast image\n",
      "  skimage.io.imsave(img_path, y_pred.astype(np.uint8) * 255)\n"
     ]
    },
    {
     "name": "stdout",
     "output_type": "stream",
     "text": [
      "  Done 66/82\r"
     ]
    },
    {
     "name": "stderr",
     "output_type": "stream",
     "text": [
      "/home/osiris/workspace/jan_lab/dendrite_U-Net/src/analyze_predictions.py:234: UserWarning: ./results/adult_062019/training_adult/post_proc_0.5_1_10/Adults_50_m.png is a low contrast image\n",
      "  skimage.io.imsave(img_path, y_pred.astype(np.uint8) * 255)\n"
     ]
    },
    {
     "name": "stdout",
     "output_type": "stream",
     "text": [
      "  Done 67/82\r"
     ]
    },
    {
     "name": "stderr",
     "output_type": "stream",
     "text": [
      "/home/osiris/workspace/jan_lab/dendrite_U-Net/src/analyze_predictions.py:234: UserWarning: ./results/adult_062019/training_adult/post_proc_0.5_1_10/Adults_51_c.png is a low contrast image\n",
      "  skimage.io.imsave(img_path, y_pred.astype(np.uint8) * 255)\n"
     ]
    },
    {
     "name": "stdout",
     "output_type": "stream",
     "text": [
      "  Done 68/82\r"
     ]
    },
    {
     "name": "stderr",
     "output_type": "stream",
     "text": [
      "/home/osiris/workspace/jan_lab/dendrite_U-Net/src/analyze_predictions.py:234: UserWarning: ./results/adult_062019/training_adult/post_proc_0.5_1_10/Adults_51_m.png is a low contrast image\n",
      "  skimage.io.imsave(img_path, y_pred.astype(np.uint8) * 255)\n"
     ]
    },
    {
     "name": "stdout",
     "output_type": "stream",
     "text": [
      "  Done 69/82\r"
     ]
    },
    {
     "name": "stderr",
     "output_type": "stream",
     "text": [
      "/home/osiris/workspace/jan_lab/dendrite_U-Net/src/analyze_predictions.py:234: UserWarning: ./results/adult_062019/training_adult/post_proc_0.5_1_10/Adults_52_c.png is a low contrast image\n",
      "  skimage.io.imsave(img_path, y_pred.astype(np.uint8) * 255)\n"
     ]
    },
    {
     "name": "stdout",
     "output_type": "stream",
     "text": [
      "  Done 70/82\r"
     ]
    },
    {
     "name": "stderr",
     "output_type": "stream",
     "text": [
      "/home/osiris/workspace/jan_lab/dendrite_U-Net/src/analyze_predictions.py:234: UserWarning: ./results/adult_062019/training_adult/post_proc_0.5_1_10/Adults_52_m.png is a low contrast image\n",
      "  skimage.io.imsave(img_path, y_pred.astype(np.uint8) * 255)\n"
     ]
    },
    {
     "name": "stdout",
     "output_type": "stream",
     "text": [
      "  Done 71/82\r"
     ]
    },
    {
     "name": "stderr",
     "output_type": "stream",
     "text": [
      "/home/osiris/workspace/jan_lab/dendrite_U-Net/src/analyze_predictions.py:234: UserWarning: ./results/adult_062019/training_adult/post_proc_0.5_1_10/Adults_53_c.png is a low contrast image\n",
      "  skimage.io.imsave(img_path, y_pred.astype(np.uint8) * 255)\n"
     ]
    },
    {
     "name": "stdout",
     "output_type": "stream",
     "text": [
      "  Done 72/82\r"
     ]
    },
    {
     "name": "stderr",
     "output_type": "stream",
     "text": [
      "/home/osiris/workspace/jan_lab/dendrite_U-Net/src/analyze_predictions.py:234: UserWarning: ./results/adult_062019/training_adult/post_proc_0.5_1_10/Adults_53_m.png is a low contrast image\n",
      "  skimage.io.imsave(img_path, y_pred.astype(np.uint8) * 255)\n"
     ]
    },
    {
     "name": "stdout",
     "output_type": "stream",
     "text": [
      "  Done 73/82\r"
     ]
    },
    {
     "name": "stderr",
     "output_type": "stream",
     "text": [
      "/home/osiris/workspace/jan_lab/dendrite_U-Net/src/analyze_predictions.py:234: UserWarning: ./results/adult_062019/training_adult/post_proc_0.5_1_10/Adults_5_m.png is a low contrast image\n",
      "  skimage.io.imsave(img_path, y_pred.astype(np.uint8) * 255)\n"
     ]
    },
    {
     "name": "stdout",
     "output_type": "stream",
     "text": [
      "  Done 74/82\r"
     ]
    },
    {
     "name": "stderr",
     "output_type": "stream",
     "text": [
      "/home/osiris/workspace/jan_lab/dendrite_U-Net/src/analyze_predictions.py:234: UserWarning: ./results/adult_062019/training_adult/post_proc_0.5_1_10/Adults_6_c.png is a low contrast image\n",
      "  skimage.io.imsave(img_path, y_pred.astype(np.uint8) * 255)\n"
     ]
    },
    {
     "name": "stdout",
     "output_type": "stream",
     "text": [
      "  Done 75/82\r"
     ]
    },
    {
     "name": "stderr",
     "output_type": "stream",
     "text": [
      "/home/osiris/workspace/jan_lab/dendrite_U-Net/src/analyze_predictions.py:234: UserWarning: ./results/adult_062019/training_adult/post_proc_0.5_1_10/Adults_6_m.png is a low contrast image\n",
      "  skimage.io.imsave(img_path, y_pred.astype(np.uint8) * 255)\n"
     ]
    },
    {
     "name": "stdout",
     "output_type": "stream",
     "text": [
      "  Done 77/82\r"
     ]
    },
    {
     "name": "stderr",
     "output_type": "stream",
     "text": [
      "/home/osiris/workspace/jan_lab/dendrite_U-Net/src/analyze_predictions.py:234: UserWarning: ./results/adult_062019/training_adult/post_proc_0.5_1_10/Adults_7_m.png is a low contrast image\n",
      "  skimage.io.imsave(img_path, y_pred.astype(np.uint8) * 255)\n"
     ]
    },
    {
     "name": "stdout",
     "output_type": "stream",
     "text": [
      "  Done 79/82\r"
     ]
    },
    {
     "name": "stderr",
     "output_type": "stream",
     "text": [
      "/home/osiris/workspace/jan_lab/dendrite_U-Net/src/analyze_predictions.py:234: UserWarning: ./results/adult_062019/training_adult/post_proc_0.5_1_10/Adults_8_m.png is a low contrast image\n",
      "  skimage.io.imsave(img_path, y_pred.astype(np.uint8) * 255)\n"
     ]
    },
    {
     "name": "stdout",
     "output_type": "stream",
     "text": [
      "  Done 80/82\r"
     ]
    },
    {
     "name": "stderr",
     "output_type": "stream",
     "text": [
      "/home/osiris/workspace/jan_lab/dendrite_U-Net/src/analyze_predictions.py:234: UserWarning: ./results/adult_062019/training_adult/post_proc_0.5_1_10/Adults_9_c.png is a low contrast image\n",
      "  skimage.io.imsave(img_path, y_pred.astype(np.uint8) * 255)\n"
     ]
    },
    {
     "name": "stdout",
     "output_type": "stream",
     "text": [
      "  Done (Time elapsed: 71s)\n",
      "Save output to ./results/adult_train_results.csv\n"
     ]
    },
    {
     "name": "stderr",
     "output_type": "stream",
     "text": [
      "/home/osiris/workspace/jan_lab/dendrite_U-Net/src/analyze_predictions.py:234: UserWarning: ./results/adult_062019/training_adult/post_proc_0.5_1_10/Adults_9_m.png is a low contrast image\n",
      "  skimage.io.imsave(img_path, y_pred.astype(np.uint8) * 255)\n"
     ]
    }
   ],
   "source": [
    "df = analyze_predictions.main(dataset, model_names, tags=tags, output_csv=output_csv)\n",
    "\n",
    "# Add metadata from file name\n",
    "pattern = re.compile('(?P<type>(Adults|Larvae)).*\\.png$')\n",
    "metadata = [pattern.search(f).groupdict() for f in df['file_name']]\n",
    "\n",
    "df = pd.concat([df, pd.DataFrame(metadata)], axis=1)"
   ]
  }
 ],
 "metadata": {
  "kernelspec": {
   "display_name": "Python 3",
   "language": "python",
   "name": "python3"
  },
  "language_info": {
   "codemirror_mode": {
    "name": "ipython",
    "version": 3
   },
   "file_extension": ".py",
   "mimetype": "text/x-python",
   "name": "python",
   "nbconvert_exporter": "python",
   "pygments_lexer": "ipython3",
   "version": "3.7.10"
  }
 },
 "nbformat": 4,
 "nbformat_minor": 2
}
